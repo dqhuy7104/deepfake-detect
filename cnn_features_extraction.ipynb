{
 "cells": [
  {
   "cell_type": "code",
   "execution_count": 1,
   "metadata": {},
   "outputs": [],
   "source": [
    "import numpy as np\n",
    "import tensorflow as tf\n",
    "from tensorflow.keras.applications import ResNet50\n",
    "from tensorflow.keras.layers import Dense, Layer, MaxPooling2D, Flatten\n",
    "from tensorflow.keras.models import Sequential\n",
    "from tensorflow.keras.preprocessing.image import ImageDataGenerator\n",
    "import os\n",
    "import cv2"
   ]
  },
  {
   "cell_type": "code",
   "execution_count": 6,
   "metadata": {},
   "outputs": [],
   "source": [
    "def read_img(real_path, fake_path):\n",
    "    # Đọc ảnh từ cả hai thư mục\n",
    "    real_image_files = sorted([os.path.join(real_path, f) for f in os.listdir(real_path) if f.endswith('.png')])\n",
    "    fake_image_files = sorted([os.path.join(fake_path, f) for f in os.listdir(fake_path) if f.endswith('.png')])\n",
    "\n",
    "    # Gộp ảnh từ cả hai thư mục vào một danh sách duy nhất\n",
    "    all_image_files = real_image_files + fake_image_files\n",
    "\n",
    "    # Tạo nhãn tương ứng cho ảnh (0 cho real, 1 cho fake)\n",
    "    all_labels = [0] * len(real_image_files) + [1] * len(fake_image_files)\n",
    "\n",
    "    return all_image_files, all_labels\n",
    "\n"
   ]
  },
  {
   "cell_type": "code",
   "execution_count": 7,
   "metadata": {},
   "outputs": [],
   "source": [
    "def load_and_preprocess_image(image_path, image_size):\n",
    "    img = cv2.imread(image_path)\n",
    "    img = cv2.resize(img, image_size)\n",
    "    img = img / 255.0  \n",
    "    return img"
   ]
  },
  {
   "cell_type": "code",
   "execution_count": 8,
   "metadata": {},
   "outputs": [],
   "source": [
    "def img_to_batch(batch_size, all_image_files, all_labels):\n",
    "    num_batch = len(all_image_files) // batch_size\n",
    "\n",
    "    for i in range(num_batch):\n",
    "\n",
    "        batch_files = all_image_files[i * batch_size:(i + 1) * batch_size]\n",
    "        batch_labels = all_labels[i * batch_size:(i + 1) * batch_size]\n",
    "        \n",
    "        batch_images = [load_and_preprocess_image(f) for f in batch_files]\n",
    "        batch_images = np.stack(batch_images, axis=0)\n",
    "        \n",
    "        batch_labels = np.array(batch_labels)\n",
    "\n",
    "    return batch_images, batch_labels"
   ]
  },
  {
   "cell_type": "code",
   "execution_count": 9,
   "metadata": {},
   "outputs": [],
   "source": [
    "#ResNet50 model\n",
    "def extract_features(image_size, batch_image):\n",
    "    #using resnet50 with imagenet weight\n",
    "    extract_model = ResNet50(\n",
    "        weights = 'imagenet',\n",
    "        include_top = False,\n",
    "        input_shape = image_size\n",
    "    )\n",
    "\n",
    "    output = extract_model.output\n",
    "    output = MaxPooling2D(output)\n",
    "    output = Flatten(output)\n",
    "\n",
    "    #extract_feature\n",
    "    features = extract_model.predict(batch_image)\n",
    "    return features"
   ]
  },
  {
   "cell_type": "code",
   "execution_count": null,
   "metadata": {},
   "outputs": [],
   "source": [
    "def combine(real_path, fake_path):\n",
    "    all_image_files, all_labels = load_and_preprocess_image(real_path, fake_path)\n",
    "    batch_image, batch_labels = img_to_batch(batch_size=16, all_image_files, all_labels)\n",
    "    features = extract_features(batch_image, batch_labels)\n",
    "    return features"
   ]
  },
  {
   "cell_type": "code",
   "execution_count": null,
   "metadata": {},
   "outputs": [],
   "source": [
    "features = combine()"
   ]
  }
 ],
 "metadata": {
  "kernelspec": {
   "display_name": ".venv",
   "language": "python",
   "name": "python3"
  },
  "language_info": {
   "codemirror_mode": {
    "name": "ipython",
    "version": 3
   },
   "file_extension": ".py",
   "mimetype": "text/x-python",
   "name": "python",
   "nbconvert_exporter": "python",
   "pygments_lexer": "ipython3",
   "version": "3.12.4"
  }
 },
 "nbformat": 4,
 "nbformat_minor": 2
}
